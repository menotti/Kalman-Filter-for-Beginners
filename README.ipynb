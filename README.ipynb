{
 "cells": [
  {
   "cell_type": "markdown",
   "metadata": {},
   "source": [
    "# Aceleração de aplicações do Filtro de Kalman com computação heterogênea\n",
    "\n",
    "## Participantes\n",
    "\n",
    "* [Gustavo M. Barreto](mailto:gbarreto@estudante.ufscar.br)\n",
    "* [Leandro J. E. Campos](mailto:leandro.campos@estudante.ufscar.br)\n",
    "* [Roberto S. Inoue](https://site.dc.ufscar.br/docente/5cefcb8f48365a001679f774)\n",
    "* [Ricardo Menotti](https://menotti.pro.br)\n",
    "\n",
    "## Referências \n",
    "\n",
    "### oneMKL\n",
    "\n",
    "* [Documentação](https://docs.oneapi.com/versions/latest/onemkl/index.html#onemkl)\n",
    "* [Guia de programação](https://software.intel.com/content/www/us/en/develop/documentation/oneapi-programming-guide/top/api-based-programming/intel-oneapi-math-kernel-library-onemkl.html)\n",
    "* [Exemplos de código oneMKL](https://github.com/oneapi-src/oneAPI-samples/tree/master/Libraries/oneMKL/)\n",
    "* [Eigen](https://software.seek.intel.com/accelerating-eigen-math-library)"
   ]
  }
 ],
 "metadata": {
  "kernelspec": {
   "display_name": "Python (Intel® oneAPI)",
   "language": "python",
   "name": "c009-intel_distribution_of_python_3_oneapi-beta05-python"
  },
  "language_info": {
   "codemirror_mode": {
    "name": "ipython",
    "version": 3
   },
   "file_extension": ".py",
   "mimetype": "text/x-python",
   "name": "python",
   "nbconvert_exporter": "python",
   "pygments_lexer": "ipython3",
   "version": "3.7.10"
  }
 },
 "nbformat": 4,
 "nbformat_minor": 4
}
