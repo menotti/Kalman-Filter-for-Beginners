{
 "cells": [
  {
   "cell_type": "markdown",
   "metadata": {},
   "source": [
    "# Aceleração de aplicações do Filtro de Kalman com computação heterogênea\n",
    "\n",
    "* [Gustavo M. Barreto](mailto:gbarreto@estudante.ufscar.br)\n",
    "* [Leandro J. E. Campos](mailto:leandro.campos@estudante.ufscar.br)\n",
    "* [Roberto S. Inoue](https://site.dc.ufscar.br/docente/5cefcb8f48365a001679f774)\n",
    "* [Ricardo Menotti](https://menotti.pro.br)"
   ]
  },
  {
   "cell_type": "markdown",
   "metadata": {},
   "source": []
  }
 ],
 "metadata": {
  "kernelspec": {
   "display_name": "Python 3.7 (Intel® oneAPI)",
   "language": "python",
   "name": "c009-intel_distribution_of_python_3_oneapi-beta05-python"
  },
  "language_info": {
   "codemirror_mode": {
    "name": "ipython",
    "version": 3
   },
   "file_extension": ".py",
   "mimetype": "text/x-python",
   "name": "python",
   "nbconvert_exporter": "python",
   "pygments_lexer": "ipython3",
   "version": "3.7.9"
  }
 },
 "nbformat": 4,
 "nbformat_minor": 4
}
