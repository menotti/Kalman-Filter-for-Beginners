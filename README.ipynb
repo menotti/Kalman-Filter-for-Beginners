{
 "cells": [
  {
   "cell_type": "markdown",
   "metadata": {},
   "source": [
    "# Aceleração de aplicações do Filtro de Kalman com computação heterogênea\n",
    "\n",
    "## Participantes\n",
    "\n",
    "* [Gustavo M. Barreto](mailto:gbarreto@estudante.ufscar.br)\n",
    "* [Leandro J. E. Campos](mailto:leandro.campos@estudante.ufscar.br)\n",
    "* [Roberto S. Inoue](https://site.dc.ufscar.br/docente/5cefcb8f48365a001679f774)\n",
    "* [Ricardo Menotti](https://menotti.pro.br)\n",
    "\n",
    "## Referências \n",
    "\n",
    "### oneMKL\n",
    "\n",
    "* [Documentação](https://docs.oneapi.com/versions/latest/onemkl/index.html#onemkl)\n",
    "* [Guia de programação](https://software.intel.com/content/www/us/en/develop/documentation/oneapi-programming-guide/top/api-based-programming/intel-oneapi-math-kernel-library-onemkl.html)\n",
    "* [Exemplos de código oneMKL](https://github.com/oneapi-src/oneAPI-samples/tree/master/Libraries/oneMKL/)\n",
    "* [Eigen](https://software.seek.intel.com/accelerating-eigen-math-library)\n",
    "\n",
    "## Exemplos\n",
    "- [10.SimpleKalman/10.SimpleKalman.ipynb](10.SimpleKalman/10.SimpleKalman.ipynb)\n",
    "\n",
    "## Repositório\n",
    "https://github.com/menotti/Kalman-Filter-for-Beginners/"
   ]
  },
  {
   "cell_type": "code",
   "execution_count": 3,
   "metadata": {},
   "outputs": [
    {
     "name": "stdout",
     "output_type": "stream",
     "text": [
      "Already up to date.\r\n"
     ]
    }
   ],
   "source": [
    "!git pull"
   ]
  },
  {
   "cell_type": "code",
   "execution_count": null,
   "metadata": {},
   "outputs": [],
   "source": []
  }
 ],
 "metadata": {
  "kernelspec": {
   "display_name": "Python 3.7 (Intel® oneAPI)",
   "language": "python",
   "name": "c009-intel_distribution_of_python_3_oneapi-beta05-python"
  },
  "language_info": {
   "codemirror_mode": {
    "name": "ipython",
    "version": 3
   },
   "file_extension": ".py",
   "mimetype": "text/x-python",
   "name": "python",
   "nbconvert_exporter": "python",
   "pygments_lexer": "ipython3",
   "version": "3.7.10"
  },
  "nbTranslate": {
   "displayLangs": [
    "*"
   ],
   "hotkey": "alt-t",
   "langInMainMenu": true,
   "sourceLang": "en",
   "targetLang": "fr",
   "useGoogleTranslate": true
  },
  "toc": {
   "base_numbering": 1,
   "nav_menu": {},
   "number_sections": true,
   "sideBar": true,
   "skip_h1_title": true,
   "title_cell": "Table of Contents",
   "title_sidebar": "Contents",
   "toc_cell": false,
   "toc_position": {},
   "toc_section_display": true,
   "toc_window_display": true
  }
 },
 "nbformat": 4,
 "nbformat_minor": 4
}
