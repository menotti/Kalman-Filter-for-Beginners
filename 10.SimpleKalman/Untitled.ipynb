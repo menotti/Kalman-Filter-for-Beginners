{
 "cells": [
  {
   "cell_type": "code",
   "execution_count": 25,
   "metadata": {},
   "outputs": [
    {
     "data": {
      "text/plain": [
       "<matplotlib.legend.Legend at 0x7f95c1762f50>"
      ]
     },
     "execution_count": 25,
     "metadata": {},
     "output_type": "execute_result"
    },
    {
     "data": {
      "image/png": "[encoded data removed]",
      "text/plain": [
       "<Figure size 432x288 with 1 Axes>"
      ]
     },
     "metadata": {
      "needs_background": "light"
     },
     "output_type": "display_data"
    }
   ],
   "source": [
    "import numpy as np\n",
    "import matplotlib.pyplot as plt\n",
    "\n",
    "def GetVolt():\n",
    "    w = 0 + 4*np.random.randn()\n",
    "    z = 14.4 + w\n",
    "    return z\n",
    "    \n",
    "def SimpleKalman(z):\n",
    "    A = np.matrix('[1]')\n",
    "    H = np.matrix('[1]')  \n",
    "    Q = np.matrix('[0]')\n",
    "    R = np.matrix('[4]')\n",
    "    x = np.matrix('[14]')\n",
    "    P = np.matrix('[6]')\n",
    "    while True:\n",
    "        xp = A * x\n",
    "        Pp = A * P * A.getT() + Q\n",
    "        K = Pp * H.getT() * np.matrix.getI(H * Pp * H.getT() + R)\n",
    "        x = xp + K * (z - H * xp)\n",
    "        P = Pp - K * H * Pp\n",
    "        volt = x\n",
    "        yield volt\n",
    "\n",
    "dt = 0.2\n",
    "t  = np.arange(0, 10+dt, dt)\n",
    "\n",
    "Nsamples = len(t)\n",
    "\n",
    "Xsaved = np.zeros(Nsamples)\n",
    "Zsaved = np.zeros(Nsamples)\n",
    "volt = SimpleKalman(GetVolt())\n",
    "\n",
    "for k in range(Nsamples):\n",
    "    z = GetVolt()\n",
    "    Xsaved[k] = next(volt)\n",
    "    Zsaved[k] = z\n",
    "\n",
    "fig, ax = plt.subplots()\n",
    "ax.plot(t, Zsaved, 'r:*', label=\"Measurements\")\n",
    "ax.plot(t, Xsaved, 'o-', label=\"Kalman Filter\") \n",
    "plt.xlabel(\"Time [sec]\")\n",
    "plt.ylabel(\"Voltage [V]\")\n",
    "plt.legend()"
   ]
  },
  {
   "cell_type": "code",
   "execution_count": 35,
   "metadata": {},
   "outputs": [
    {
     "name": "stdout",
     "output_type": "stream",
     "text": [
      "Writing SimpleKalman.cpp~\n"
     ]
    }
   ],
   "source": [
    "%%writefile SimpleKalman.cpp~\n",
    "\n"
   ]
  },
  {
   "cell_type": "code",
   "execution_count": 1,
   "metadata": {},
   "outputs": [
    {
     "name": "stdout",
     "output_type": "stream",
     "text": [
      "Job has been submitted to Intel(R) DevCloud and will execute soon.\n",
      "\n",
      " If you do not see result in 60 seconds, please restart the Jupyter kernel:\n",
      " Kernel -> 'Restart Kernel and Clear All Outputs...' and then try again\n",
      "\n",
      "Job ID                    Name             User            Time Use S Queue\n",
      "------------------------- ---------------- --------------- -------- - -----\n",
      "915725.v-qsvr-1            ...ub-singleuser u44807          00:00:05 R jupyterhub     \n",
      "915728.v-qsvr-1            build_run.sh     u44807                 0 Q batch          \n",
      "\n",
      "Waiting for Output ██████████ Done⬇\n",
      "\n",
      "########################################################################\n",
      "#      Date:           Fri 02 Jul 2021 07:18:00 AM PDT\n",
      "#    Job ID:           915728.v-qsvr-1.aidevcloud\n",
      "#      User:           u44807\n",
      "# Resources:           neednodes=1:gpu:ppn=2,nodes=1:gpu:ppn=2,walltime=06:00:00\n",
      "########################################################################\n",
      "\n",
      "dpcpp SimpleKalman.cpp -o SimpleKalman -DMKL_ILP64  -I\"/glob/development-tools/versions/oneapi/2021.3/inteloneapi/mkl/2021.3.0/include\" -fsycl-device-code-split=per_kernel -L/glob/development-tools/versions/oneapi/2021.3/inteloneapi/mkl/2021.3.0/lib/intel64 -lmkl_sycl -lmkl_intel_ilp64 -lmkl_sequential -lmkl_core -lsycl -lOpenCL -lpthread -lm -ldl\n",
      "rm -f SimpleKalman\n",
      "\n",
      "########################################################################\n",
      "# End of output for job 915728.v-qsvr-1.aidevcloud\n",
      "# Date: Fri 02 Jul 2021 07:18:07 AM PDT\n",
      "########################################################################\n",
      "\n",
      "SimpleKalman.cpp:107:70: error: use of undeclared identifier 'ipiv'\n",
      "            oneapi::mkl::lapack::getrf(device_queue, 1, 1, HpHTR, 1, ipiv, scratchpad, scratchpad_size);\n",
      "                                                                     ^\n",
      "SimpleKalman.cpp:108:70: error: use of undeclared identifier 'ipiv'\n",
      "            oneapi::mkl::lapack::getri(device_queue, 1, 1, HpHTR, 1, ipiv, scratchpad, scratchpad_size);\n",
      "                                                                     ^\n",
      "2 errors generated.\n",
      "make: *** [Makefile:16: SimpleKalman] Error 1\n",
      "Job Completed in 10 seconds.\n"
     ]
    }
   ],
   "source": [
    "! chmod 755 q; chmod 755 build_run.sh; if [ -x \"$(command -v qsub)\" ]; then ./q build_run.sh; else ./build_run.sh; fi"
   ]
  }
 ],
 "metadata": {
  "kernelspec": {
   "display_name": "Python (Intel® oneAPI)",
   "language": "python",
   "name": "c009-intel_distribution_of_python_3_oneapi-beta05-python"
  },
  "language_info": {
   "codemirror_mode": {
    "name": "ipython",
    "version": 3
   },
   "file_extension": ".py",
   "mimetype": "text/x-python",
   "name": "python",
   "nbconvert_exporter": "python",
   "pygments_lexer": "ipython3",
   "version": "3.7.10"
  }
 },
 "nbformat": 4,
 "nbformat_minor": 4
}
