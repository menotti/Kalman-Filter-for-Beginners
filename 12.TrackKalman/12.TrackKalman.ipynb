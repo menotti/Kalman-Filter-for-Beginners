{
 "cells": [
  {
   "cell_type": "markdown",
   "metadata": {
    "tags": []
   },
   "source": [
    "# Matlab Implementation - Track Kalman\n",
    "<img src= \"plot_position.png\" width =\"500\">"
   ]
  },
  {
   "cell_type": "code",
   "execution_count": 21,
   "metadata": {},
   "outputs": [
    {
     "data": {
      "image/png": "[encoded data removed]",
      "text/plain": [
       "<Figure size 432x288 with 1 Axes>"
      ]
     },
     "metadata": {
      "needs_background": "light"
     },
     "output_type": "display_data"
    }
   ],
   "source": [
    "import numpy as np\n",
    "import matplotlib.pyplot as plot\n",
    "import KalmanTools as Tools\n",
    "\n",
    "def GetBallPos():\n",
    "    filename = \"Measure_Img.csv\"\n",
    "    with open(filename) as file_obj:\n",
    "        lines = file_obj.readlines()\n",
    "        X = lines[0].split(\",\")\n",
    "        Y = lines[1].split(\",\")\n",
    "    X = [float(x) for x in X]\n",
    "    Y = [float(x) for x in Y]\n",
    "    i = 0\n",
    "    while i < len(X):\n",
    "        x =X[i]\n",
    "        y =Y[i]\n",
    "        yield x,y\n",
    "        i +=1\n",
    "\n",
    "\n",
    "\n",
    "NoOfImg = 24\n",
    "dt = 1\n",
    "\n",
    "Xhsaved = np.zeros((2,NoOfImg))\n",
    "Xmsaved = np.zeros((2,NoOfImg))\n",
    "XmRead = GetBallPos()\n",
    "\n",
    "TrackKalman = Tools.KalmanFilter()\n",
    "\n",
    "A = np.matrix([[1,dt, 0, 0],\n",
    "\t\t       [0, 1, 0, 0],\n",
    "\t\t       [0, 0, 1,dt],\n",
    "\t\t       [0, 0, 0, 1]])\n",
    "\n",
    "H = np.matrix([[1, 0, 0, 0],\n",
    "               [0, 0, 1, 0]])\n",
    "\n",
    "Q = np.eye(4)\n",
    "R = np.eye(2)*50\n",
    "x = np.zeros((4,1))\n",
    "P = np.eye(4)*100\n",
    "\n",
    "TrackKalman.setDeltaT(dt)\n",
    "TrackKalman.setTransitionMatrix(A)\n",
    "TrackKalman.setSttMeasure(H)\n",
    "TrackKalman.setTransitionCovMatrix(Q)\n",
    "TrackKalman.setErrorCovMatrix(P)\n",
    "TrackKalman.setMeasureCovMatrix(R)\n",
    "TrackKalman.setSttVariable(x)\n",
    "\n",
    "\n",
    "for i in range(NoOfImg):\n",
    "\txm, ym = Xmsaved[0:2, i] = next(XmRead)\n",
    "\tresult = TrackKalman.filter(xm, ym)\n",
    "\tXhsaved[0:2, i] = result\n",
    "\n",
    "\n",
    "# plotting results\n",
    "xy, position = plot.subplots()\n",
    "\n",
    "\n",
    "position.plot(Xmsaved[0], Xmsaved[1], '*', label='Measured')\n",
    "position.plot(Xhsaved[0], Xhsaved[1], 's', label='Kalman Filter')\n",
    "position.set(title=\"Position Label\", xlabel=\"Horizontal [pixel]\", ylabel=\"Vertical [pixel]\")\n",
    "position.set_ylim([0,250])\n",
    "position.set_xlim([0,350])\n",
    "leg_1 = position.legend()\n",
    "\n",
    "\n",
    "plot.show()"
   ]
  },
  {
   "cell_type": "markdown",
   "metadata": {
    "tags": []
   },
   "source": [
    "# KalmanTools Class Implementation (Python)"
   ]
  },
  {
   "cell_type": "code",
   "execution_count": 17,
   "metadata": {},
   "outputs": [
    {
     "name": "stdout",
     "output_type": "stream",
     "text": [
      "Overwriting KalmanTools.py\n"
     ]
    }
   ],
   "source": [
    "%%writefile KalmanTools.py\n",
    "import numpy as np \n",
    "\n",
    "class KalmanFilter(object):\n",
    "\tdef __init__(self):\n",
    "\t\t#initial Variables\n",
    "\t\tself.A = np.matrix\n",
    "\t\tself.H = np.matrix\n",
    "\t\tself.Q = np.matrix\n",
    "\t\tself.R = np.matrix\n",
    "\t\tself.x = np.matrix\n",
    "\t\tself.P = np.matrix\n",
    "\t\tself.dt : float\n",
    "\t\tself.z : float\n",
    "\t\tself.K = np.matrix\n",
    "\n",
    "\tdef setTransitionMatrix(self, A):\n",
    "\t\tself.A = A\n",
    "        \n",
    "\tdef setSttMeasure(self, H):\n",
    "\t\tself.H = H\n",
    "\n",
    "\tdef setSttVariable(self, x):\n",
    "\t\tself.x = x\n",
    "\n",
    "\tdef setTransitionCovMatrix(self, Q):\n",
    "\t\tself.Q = Q\n",
    "\n",
    "\tdef setMeasureCovMatrix(self, R):\n",
    "\t\tself.R = R\n",
    "\n",
    "\tdef setDeltaT(self, delta):\n",
    "\t\tself.dt = delta\n",
    "\n",
    "\tdef setErrorCovMatrix(self, P):\n",
    "\t\tself.P = P\n",
    "\n",
    "\tdef filter(self, dx, dy):\n",
    "\t\tself.z = np.matrix([[dx], [dy]])\n",
    "\t\txp = self.A * self.x\n",
    "\t\tPp = self.A * self.P * self.A.getT() + self.Q\n",
    "\t\tself.K = Pp * self.H.getT() * np.matrix.getI(self.H * Pp * self.H.getT() + self.R)\n",
    "\t\tself.x = xp + self.K * (self.z - self.H * xp)\n",
    "\t\tself.P = Pp - self.K * self.H * Pp\n",
    "\t\tdv_pos = self.x[0, 0]\n",
    "\t\tdv_vel = self.x[2, 0]\n",
    "\t\treturn dv_pos, dv_vel\n"
   ]
  },
  {
   "cell_type": "markdown",
   "metadata": {
    "tags": []
   },
   "source": [
    "# DPC++ implementation"
   ]
  },
  {
   "cell_type": "code",
   "execution_count": 39,
   "metadata": {
    "tags": []
   },
   "outputs": [
    {
     "name": "stdout",
     "output_type": "stream",
     "text": [
      "Overwriting DvKalman.cpp\n"
     ]
    }
   ],
   "source": [
    "%%writefile DvKalman.cpp\n",
    "#include <iostream>\n",
    "using std::cout;\n",
    "using std::endl;\n",
    "#include <fstream>\n",
    "using std::ifstream; \n",
    "using std::ofstream; \n",
    "#include <stdlib.h>\n",
    "#include <string>\n",
    "using std::stof;\n",
    "using std::string;\n",
    "#include <limits>\n",
    "#include <random>\n",
    "#include <CL/sycl.hpp>\n",
    "#include \"oneapi/mkl.hpp\"\n",
    "namespace blas = oneapi::mkl::blas;\n",
    "namespace lapack = oneapi::mkl::lapack;\n",
    "#include \"KalmanTools.h\"\n",
    "\n",
    "//Function Prototype\n",
    "double *Getsonar();\n",
    "\n",
    "int main(){\n",
    "    //create file : DvKalman\n",
    "    ofstream myfile(\"DvKalman.csv\");\n",
    "    myfile << \"Time,Measurements,Position,Velocity\\n\";\n",
    "    auto async_handler = [](sycl::exception_list exceptions) {\n",
    "        for (exception_ptr const &e : exceptions) {\n",
    "            try {\n",
    "                rethrow_exception(e);\n",
    "            }\n",
    "            catch (sycl::exception const &e) {\n",
    "                cout << \"Caught asynchronous SYCL exception: \" << e.what() << endl;\n",
    "            }\n",
    "        }\n",
    "    };\n",
    "    \n",
    "    try {\n",
    "        //Define pseudo-random values and normal distribution\n",
    "        default_random_engine generator;\n",
    "        generator.seed(42);\n",
    "        normal_distribution<double> distribution(0.0, 1.0);\n",
    "         \n",
    "        //About Accelerator Device & Queue\n",
    "        sycl::device device = sycl::device(sycl::default_selector());\n",
    "        cout << \"Device: \" << device.get_info<sycl::info::device::name>() << \"\\n\";\n",
    "        sycl::queue queue(device, async_handler);\n",
    "        vector<sycl::event> event_list;\n",
    "        \n",
    "        //Declare example variables, lists and Kalman Object\n",
    "        double dt = 0.02;\n",
    "        const int Nsamples = 500;\n",
    "        double t[Nsamples];\n",
    "        Kalman_filter *kalman = new Kalman_filter();\n",
    "        kalman->default_values(dt);\n",
    "        auto *Zsaved = sycl::malloc_shared<double>(Nsamples, queue);\n",
    "        auto *PosSaved = sycl::malloc_shared<double>(Nsamples, queue);\n",
    "        auto *VelSaved = sycl::malloc_shared<double>(Nsamples, queue);\n",
    "        \n",
    "        //generate list with Sonar measures\n",
    "        Zsaved = Getsonar();\n",
    "        \n",
    "        if (!PosSaved || !VelSaved) {\n",
    "            cerr << \"Could not allocate memory for vectors.\" << endl;\n",
    "            exit(1);\n",
    "        }\n",
    "        int first = 0;\n",
    "        for (int i = 0; i < Nsamples; i++){\n",
    "            t[i] = dt*i;\n",
    "            //calculate, then store.\n",
    "            kalman->filter(Zsaved[i]);\n",
    "            PosSaved[i] = kalman->getResult(0,0);\n",
    "            VelSaved[i] = kalman->getResult(0,1);\n",
    "            myfile << t[i] << \", \" << Zsaved[i] << \", \" << PosSaved[i] << \", \" << VelSaved[i] <<'\\n';\n",
    "        }\n",
    "        myfile.close();\n",
    "        free(PosSaved, queue);\n",
    "        free(VelSaved, queue);\n",
    "        free(Zsaved, queue);\n",
    "        \n",
    "\n",
    "    } catch (const exception &e) {\n",
    "        cerr << \"An exception occurred: \"\n",
    "                  << e.what() << endl;\n",
    "        exit(1);\n",
    "    }\n",
    "}\n",
    "\n",
    "double *Getsonar() {\n",
    "\tstring Mytext;\n",
    "\tint i= 0, NSamples = 500;\n",
    "\tdouble *arr = new double[500];\n",
    "\t//Leitura de arquivo\n",
    "    ifstream MyFile(\"GetSonar.csv\");\n",
    " while(getline(MyFile, Mytext,';')){\n",
    "\tarr[i++] = stof(Mytext);\n",
    " }\n",
    " return arr;\n",
    "}\n",
    "\n"
   ]
  },
  {
   "cell_type": "markdown",
   "metadata": {
    "tags": []
   },
   "source": [
    "# KalmanTools Class Implementation (DPC++)"
   ]
  },
  {
   "cell_type": "code",
   "execution_count": 10,
   "metadata": {
    "tags": []
   },
   "outputs": [
    {
     "name": "stdout",
     "output_type": "stream",
     "text": [
      "Overwriting KalmanTools.h\n"
     ]
    }
   ],
   "source": [
    "%%writefile KalmanTools.h\n",
    "\n",
    "\n",
    "#include <iostream>\n",
    "\n",
    "#include <fstream>\n",
    "#include <stdlib.h>\n",
    "#include <stdio.h>\n",
    "#include <limits>\n",
    "#include <CL/sycl.hpp>\n",
    "#include \"oneapi/mkl.hpp\"\n",
    "\n",
    "#include <algorithm> \n",
    "\n",
    "namespace blas = oneapi::mkl::blas;\n",
    "namespace lapack = oneapi::mkl::lapack;\n",
    "using namespace std;\n",
    "\n",
    "auto nontransM = oneapi::mkl::transpose::nontrans;\n",
    "auto    transM = oneapi::mkl::transpose::trans;\n",
    "\n",
    "void inv(sycl::queue &queue, double *A, int64_t N) {\n",
    "    sycl::event getr_task[2];\n",
    "    vector<sycl::event> event_list;\n",
    "\n",
    "    double scratch_size = lapack::getrf_scratchpad_size<double>(queue, N, N, N);\n",
    "    double *scratchpad = sycl::malloc_shared<double>(scratch_size+1, queue);\n",
    "\n",
    "    auto *IPIV = sycl::malloc_shared<int64_t>(N*N, queue);\n",
    "    \n",
    "    getr_task[0] = lapack::getrf(queue, N, N, A, N, IPIV, scratchpad, scratch_size, event_list);\n",
    "    getr_task[0].wait();\n",
    "    getr_task[1] = lapack::getri(queue, N, A, N, IPIV, scratchpad, scratch_size, event_list);\n",
    "    getr_task[1].wait();\n",
    "    \n",
    "    free(IPIV, queue);\n",
    "}\n",
    "class Kalman_filter {\n",
    "private: \n",
    "    sycl::queue queue;\n",
    "    double alpha = 1.0; \n",
    "    double beta = 0.0;\n",
    "    int M = 2;\n",
    "    int N = 1;\n",
    "    double dt;\n",
    "    const int size_1 = N*N;\n",
    "    const int size_2 = M*N;\n",
    "    const int size_3 = M*M;\n",
    "\n",
    "    //Matrix Declaration\n",
    "    double *A = sycl::malloc_shared<double>(size_3, queue); \n",
    "    double *H = sycl::malloc_shared<double>(size_2, queue); \n",
    "    double *Q = sycl::malloc_shared<double>(size_3, queue); \n",
    "    double *R = sycl::malloc_shared<double>(size_1, queue);  \n",
    "    double *x = sycl::malloc_shared<double>(size_2, queue); \n",
    "    double *P = sycl::malloc_shared<double>(size_3, queue); \n",
    "    double *z = sycl::malloc_shared<double>(size_1, queue); \n",
    "\n",
    "    // Intermediary values to calculus\n",
    "    double *xp = sycl::malloc_shared<double>(size_2, queue);\n",
    "    double *Pp = sycl::malloc_shared<double>(size_3, queue);\n",
    "    double *K = sycl::malloc_shared<double>(size_2, queue);\n",
    "    double *AP = sycl::malloc_shared<double>(size_3, queue);   \n",
    "    double *PpHT = sycl::malloc_shared<double>(size_2, queue); \n",
    "    double *HpHTR = sycl::malloc_shared<double>(size_1, queue);\n",
    "    double *Hxp = sycl::malloc_shared<double>(size_3, queue);\n",
    "    double *Kz = sycl::malloc_shared<double>(size_3, queue);\n",
    "    double *KH = sycl::malloc_shared<double>(size_3, queue); \n",
    "\n",
    "public: \n",
    "    //modules\n",
    "    void default_values(double delta_t);\n",
    "    void filter(double z_value);\n",
    "    double getResult(int row, int col);\n",
    "    \n",
    "    void end_task();\n",
    "\n",
    "};\n",
    "\n",
    "\n",
    "\n",
    "doubl *Kalman_filter::default_values(double delta_t){\n",
    "//define initial values to the Kalman Implementation in accord to Phil Kim's book\n",
    "    \n",
    "\tdt = delta_t;\n",
    "\tA[0] = 1.0; A[1] = 0.2;\n",
    "\tA[2] = 0.0; A[3] = 1.0;\n",
    "    \n",
    "    x[0] = 0.0; x[1] = 20.0;\n",
    "    \n",
    "    H[0] = 1.0; H[1] = 0.0;\n",
    "    \n",
    "    Q[0] = 1.0; Q[1] = 0.0;\n",
    "    Q[2] = 0.0; Q[3] = 3.0;\n",
    "    \n",
    "    R[0] = 10.0;\n",
    "    \n",
    "    P[0] = 5.0; P[1] = 0.0;\n",
    "    P[2] = 0.0; P[3] = 5.0;\n",
    "\n",
    "\n",
    "    std::cout<<\"Default Values inserted succefully\"<<endl;\n",
    "}\n",
    "\n",
    "void Kalman_filter::filter(double z_value){\n",
    "    z[0] = z_value;\n",
    "    constexpr int gemm_total = 10, axpy_total = 5;\n",
    "    sycl::event gemm_task[gemm_total], scal_task;\n",
    "    sycl::event axpy_task[axpy_total];\n",
    "    std::cout<<std::showpoint;\n",
    "    vector<sycl::event> gemm[gemm_total];\n",
    "       \n",
    "     // xp(MxN) = A(MxM) * x(MxN)     \n",
    "    gemm_task[0] = blas::row_major::gemm(queue, nontransM, nontransM, M, N, M, alpha, A, M, x, N, beta, xp, N, gemm[0]);\n",
    "    gemm_task[0].wait();\n",
    "    \n",
    "     // Pp(MxM) = A * P * A' + Q(MxM)\n",
    "        //1.1) AP(MxM) = A(MxM) * P(MxM)\n",
    "    gemm_task[1] = blas::row_major::gemm(queue, nontransM, nontransM, M, M, M, alpha, A, M, P, M, beta, AP, M, gemm[1]);\n",
    "    gemm_task[1].wait();\n",
    "    \n",
    "        //1.2) Pp = AP(MxM) * A'(MxM)\n",
    "    gemm_task[2] = blas::row_major::gemm(queue, nontransM, transM, M, M, M, alpha, AP, M, A, M, beta, Pp, M, gemm[2]);\n",
    "    gemm_task[2].wait();\n",
    "\n",
    "       //1.3) Pp(MxM) = Pp(MxM) + Q(MxM) \n",
    "    axpy_task[0] = blas::axpy(queue, size_3, alpha, Q, 1.0, Pp, 1.0);\n",
    "    axpy_task[0].wait();\n",
    "\n",
    "    // K = Pp * H' * inv(H * Pp * H' + R)\n",
    "        // 2.1) PpHT(MxN) = Pp(MxM) * H'(MxN)\n",
    "    gemm_task[3] = blas::row_major::gemm(queue, nontransM, transM, M, N, M, alpha, Pp, M, H, M, beta, PpHT, N, gemm[3]);\n",
    "    gemm_task[3].wait();\n",
    "\n",
    "    \n",
    "        // 2.2) HpHTR(NxN) = H(NxM) * [ Pp(MxM) * Ht(MxN) ] = H (NxM) * PpHT(MxN) \n",
    "    gemm_task[4] = blas::row_major::gemm(queue, nontransM, nontransM, N, N, M, alpha, H, M, PpHT, N, beta, HpHTR, N, gemm[4]);\n",
    "    gemm_task[4].wait();\n",
    "                                       \n",
    "        // 2.3) HpHTR(NxN) = HpHTR(NxN) + R(NxN)\n",
    "    axpy_task[1] = blas::axpy(queue, size_1, alpha, R, 1.0, HpHTR, 1.0);\n",
    "    axpy_task[1].wait();\n",
    "    \n",
    "        // HpHTR(NxN) = inv(HpHTR)\n",
    "    inv(queue, HpHTR, N);                                 \n",
    "    \n",
    "         // 2.4) K(MxN) = (Pp(MxM) * Ht(MxN)) * HpHTR(NxN) -> PpHT(MxN) * HpHTR(NxN)\n",
    "    gemm_task[5] = blas::gemm(queue, nontransM, nontransM, M, N, N, alpha, PpHT, M, HpHTR, N, beta, K, M, gemm[5]);\n",
    "    gemm_task[5].wait();   \n",
    "        \n",
    "    // x(MxN) = xp(MxN) + K * (z - H * xp)          \n",
    "        // 3.1) Hxp(NxN) = H(NxM) * xp(MxN)\n",
    "    gemm_task[6] = blas::row_major::gemm(queue, nontransM, nontransM, N, N, M, alpha, H, M, xp, M, beta, Hxp, N, gemm[6]);\n",
    "    gemm_task[6].wait();\n",
    "    \n",
    "        // 3.2) z = -Hxp(NxN) + z(NxN)\n",
    "    axpy_task[2] = blas::axpy(queue, size_1, -alpha, Hxp, 1.0, z, 1.0);\n",
    "    axpy_task[2].wait();\n",
    "    \n",
    "                                                                      \n",
    "        //3.3) // x(MxN) = K(MxN)*z(NxN)\n",
    "    gemm_task[7] = blas::row_major::gemm(queue, nontransM, nontransM, M, N, N, alpha, K, N, z, N, beta, x, N, gemm[7]);\n",
    "    gemm_task[7].wait();\n",
    "    \n",
    "        //3.4) x(MxN) = xp(MxN) + x(MxN) \n",
    "    axpy_task[3] = blas::axpy(queue, size_2, alpha, xp, 1.0, x, 1.0);\n",
    "    axpy_task[3].wait();\n",
    "    \n",
    "    // P = Pp - K * H * Pp\n",
    "        //4.1) KH(MxM) = K(MxN)*H(NxM)\n",
    "    gemm_task[8] = blas::row_major::gemm(queue, nontransM, nontransM, M, M, N, alpha, K, N, H, M, beta, KH, M, gemm[8]);\n",
    "    gemm_task[8].wait();\n",
    "\n",
    "        //4.2) P =(-1)* KH(MxM) * Pp(MxM)\n",
    "    gemm_task[9] = blas::row_major::gemm(queue, nontransM, nontransM, M, M, M, -alpha, KH, M, Pp, M, beta, P, M, gemm[9]);\n",
    "    gemm_task[9].wait();\n",
    "    \n",
    "        //4.3) P = (Pp - P)\n",
    "    axpy_task[4] = blas::axpy(queue, size_3, alpha, Pp, 1.0, P, 1.0);\n",
    "    axpy_task[4].wait();\n",
    "    \n",
    "    double *arr\n",
    "    return arr;\n",
    "    //End calculus here, then its necessary to acess it by GetResult, \n",
    "    //which is obtained by the matrix X(nRow x nCol).\n",
    "}    \n",
    "\n",
    "\n",
    "double Kalman_filter::getResult(int row, int col){\n",
    "    bool null_number = row<0 || col<0; \n",
    "    bool overflow = row>M || col>N;\n",
    "        if (!overflow && !null_number) return x[col + row*M];        \n",
    "        else {\n",
    "            cout<<\"Error: Memory not located\"<<endl; \n",
    "            return -1;\n",
    "        }\n",
    "}\n",
    "\n",
    "\n",
    "\n",
    "\n",
    "/*void end_task(){\n",
    "    free(A, queue);\n",
    "    free(H, queue);\n",
    "    free(Q, queue);\n",
    "    free(R, queue);\n",
    "    free(x, queue);\n",
    "    free(P, queue);\n",
    "    free(z, queue);\n",
    "\n",
    "    free(xp, queue);\n",
    "    free(Pp, queue);\n",
    "    free(K, queue);\n",
    "    free(AP, queue);\n",
    "    free(PpHT, queue);\n",
    "    free(HpHTR, queue);\n",
    "    free(Hxp, queue);\n",
    "    free(Kz, queue);\n",
    "    free(KH, queue);\n",
    "    \n",
    "}\n",
    "*/\n",
    "\n"
   ]
  },
  {
   "cell_type": "markdown",
   "metadata": {},
   "source": [
    "# CPU execution"
   ]
  },
  {
   "cell_type": "code",
   "execution_count": 41,
   "metadata": {
    "tags": []
   },
   "outputs": [
    {
     "name": "stdout",
     "output_type": "stream",
     "text": [
      "./DvKalman\n",
      "Device: Intel(R) Xeon(R) Gold 6128 CPU @ 3.40GHz\n",
      "Default Values inserted succefully\n",
      "An exception occurred: Native API failed. Native API returns: -30 (CL_INVALID_VALUE) -30 (CL_INVALID_VALUE)\n",
      "make: *** [Makefile:8: run] Error 1\n"
     ]
    },
    {
     "data": {
      "image/png": "[encoded data removed]",
      "text/plain": [
       "<Figure size 432x288 with 1 Axes>"
      ]
     },
     "metadata": {
      "needs_background": "light"
     },
     "output_type": "display_data"
    },
    {
     "data": {
      "image/png": "[encoded data removed]",
      "text/plain": [
       "<Figure size 432x288 with 1 Axes>"
      ]
     },
     "metadata": {
      "needs_background": "light"
     },
     "output_type": "display_data"
    }
   ],
   "source": [
    "! make \n",
    "! mv DvKalman.csv DvKalmanCPU.csv\n",
    "\n",
    "import matplotlib.pyplot as plt\n",
    "import pandas as pd\n",
    "\n",
    "def plot_results(filename):\n",
    "    df = pd.read_csv(filename)\n",
    "    plot_1, ax = plt.subplots()\n",
    "    plot_2, vel= plt.subplots()\n",
    "    \n",
    "    vel.plot(df.Time.to_list(), df.Velocity.to_list(), 'o-', label=\"Measurements\", markersize=1)\n",
    "    vel.set(title=\"Velocity Label\", xlabel=\"Time [sec]\", ylabel=\"Velocity [M/s]\")\n",
    "\n",
    "    ax.plot(df.Time.to_list(), df.Measurements.to_list(), 'o-', label=\"Kalman Filter\", markersize=1) \n",
    "    ax.plot(df.Time.to_list(), df.Position.to_list(), 'r:*', label=\"Measurements\", markersize=2)\n",
    "    ax.set(title=\"Position Label\", xlabel=\"Time [sec]\", ylabel=\"Position [Meters]\")\n",
    "    \n",
    "\n",
    "plot_results('DvKalmanCPU.csv')"
   ]
  },
  {
   "cell_type": "markdown",
   "metadata": {},
   "source": [
    "# GPU execution"
   ]
  },
  {
   "cell_type": "code",
   "execution_count": 42,
   "metadata": {
    "tags": []
   },
   "outputs": [
    {
     "name": "stdout",
     "output_type": "stream",
     "text": [
      "Job has been submitted to Intel(R) DevCloud and will execute soon.\n",
      "\n",
      " If you do not see result in 60 seconds, please restart the Jupyter kernel:\n",
      " Kernel -> 'Restart Kernel and Clear All Outputs...' and then try again\n",
      "\n",
      "Job ID                    Name             User            Time Use S Queue\n",
      "------------------------- ---------------- --------------- -------- - -----\n",
      "963175.v-qsvr-1            ...ub-singleuser u81855          00:01:27 R jupyterhub     \n",
      "963195.v-qsvr-1            build_run.sh     u81855                 0 Q batch          \n",
      "\n",
      "Waiting for Output ████████████████████████ Done⬇\n",
      "\n",
      "########################################################################\n",
      "#      Date:           Wed 08 Sep 2021 06:54:15 PM PDT\n",
      "#    Job ID:           963195.v-qsvr-1.aidevcloud\n",
      "#      User:           u81855\n",
      "# Resources:           neednodes=1:gpu:ppn=2,nodes=1:gpu:ppn=2,walltime=06:00:00\n",
      "########################################################################\n",
      "\n",
      "./DvKalman\n",
      "Device: Intel(R) UHD Graphics P630 [0x3e96]\n",
      "Default Values inserted succefully\n",
      "rm -f DvKalman\n",
      "\n",
      "########################################################################\n",
      "# End of output for job 963195.v-qsvr-1.aidevcloud\n",
      "# Date: Wed 08 Sep 2021 06:54:31 PM PDT\n",
      "########################################################################\n",
      "\n",
      "An exception occurred: Native API failed. Native API returns: -30 (CL_INVALID_VALUE) -30 (CL_INVALID_VALUE)\n",
      "make: *** [Makefile:8: run] Error 1\n",
      "Job Completed in 24 seconds.\n"
     ]
    },
    {
     "data": {
      "image/png": "[encoded data removed]",
      "text/plain": [
       "<Figure size 432x288 with 1 Axes>"
      ]
     },
     "metadata": {
      "needs_background": "light"
     },
     "output_type": "display_data"
    },
    {
     "data": {
      "image/png": "[encoded data removed]",
      "text/plain": [
       "<Figure size 432x288 with 1 Axes>"
      ]
     },
     "metadata": {
      "needs_background": "light"
     },
     "output_type": "display_data"
    }
   ],
   "source": [
    "! chmod 755 q; chmod 755 build_run.sh; if [ -x \"$(command -v qsub)\" ]; then ./q build_run.sh; else ./build_run.sh; fi\n",
    "! mv DvKalman.csv DvKalmanGPU.csv\n",
    "\n",
    "plot_results('DvKalmanGPU.csv')"
   ]
  },
  {
   "cell_type": "code",
   "execution_count": null,
   "metadata": {},
   "outputs": [],
   "source": []
  },
  {
   "cell_type": "code",
   "execution_count": null,
   "metadata": {},
   "outputs": [],
   "source": []
  }
 ],
 "metadata": {
  "kernelspec": {
   "display_name": "Python 3.7 (Intel® oneAPI)",
   "language": "python",
   "name": "c009-intel_distribution_of_python_3_oneapi-beta05-python"
  },
  "language_info": {
   "codemirror_mode": {
    "name": "ipython",
    "version": 3
   },
   "file_extension": ".py",
   "mimetype": "text/x-python",
   "name": "python",
   "nbconvert_exporter": "python",
   "pygments_lexer": "ipython3",
   "version": "3.7.10"
  },
  "nbTranslate": {
   "displayLangs": [
    "*"
   ],
   "hotkey": "alt-t",
   "langInMainMenu": true,
   "sourceLang": "en",
   "targetLang": "fr",
   "useGoogleTranslate": true
  },
  "toc": {
   "base_numbering": 1,
   "nav_menu": {},
   "number_sections": true,
   "sideBar": true,
   "skip_h1_title": false,
   "title_cell": "Table of Contents",
   "title_sidebar": "Contents",
   "toc_cell": false,
   "toc_position": {},
   "toc_section_display": true,
   "toc_window_display": false
  }
 },
 "nbformat": 4,
 "nbformat_minor": 4
}
